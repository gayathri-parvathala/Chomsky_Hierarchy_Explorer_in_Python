{
  "nbformat": 4,
  "nbformat_minor": 0,
  "metadata": {
    "colab": {
      "provenance": []
    },
    "kernelspec": {
      "name": "python3",
      "display_name": "Python 3"
    },
    "language_info": {
      "name": "python"
    }
  },
  "cells": [
    {
      "cell_type": "code",
      "source": [
        "import re\n",
        "def is_regular(grammar):\n",
        "    \"\"\"\n",
        "    A grammar is regular if all rules are of the form:\n",
        "    1. A -> α, where A is a single non-terminal and α is a string of terminals.\n",
        "    2. A -> ε, where A is a single non-terminal.\n",
        "    \"\"\"\n",
        "    regular_pattern = re.compile(r\"^[A-Z] -> [a-z](?:[A-Z])?$|^[A-Z] -> ε$\")\n",
        "    for production in grammar:\n",
        "        if \"->\" not in production:\n",
        "            return False\n",
        "        lhs, rhs = production.replace(\" \", \"\").split('->')  # Strip spaces and split\n",
        "        rhs_parts = rhs.split('|')\n",
        "        for part in rhs_parts:\n",
        "            if not regular_pattern.match(f\"{lhs} -> {part}\"):\n",
        "                return False\n",
        "    return True\n",
        "def is_context_free(grammar):\n",
        "    \"\"\"\n",
        "    A grammar is context-free if all rules are of the form:\n",
        "    1. A -> γ, where A is a single non-terminal and γ is a string of terminals and/or non-terminals.\n",
        "    \"\"\"\n",
        "    for production in grammar:\n",
        "        if \"->\" not in production:\n",
        "            return False\n",
        "        lhs, rhs = production.replace(\" \", \"\").split('->')\n",
        "        if len(lhs) != 1 or not lhs.isupper():\n",
        "            return False\n",
        "    return True\n",
        "def is_context_sensitive(grammar):\n",
        "    \"\"\"\n",
        "    A grammar is context-sensitive if all rules are of the form:\n",
        "    1. αAβ -> αγβ, where |lhs| <= |rhs|.\n",
        "    \"\"\"\n",
        "    for production in grammar:\n",
        "        if \"->\" not in production:\n",
        "            return False\n",
        "        lhs, rhs = production.replace(\" \", \"\").split('->')\n",
        "        if len(lhs) > len(rhs):\n",
        "            return False\n",
        "    return True\n",
        "def is_recursively_enumerable(grammar):\n",
        "    \"\"\"\n",
        "    A grammar is recursively enumerable if there are no restrictions on the form of the rules.\n",
        "    All grammars are Type 0 by default.\n",
        "    \"\"\"\n",
        "    return True\n",
        "def classify_grammar(grammar):\n",
        "    \"\"\"\n",
        "    Classify the grammar into one of the Chomsky hierarchy types:\n",
        "    - Type 3: Regular Grammar\n",
        "    - Type 2: Context-Free Grammar\n",
        "    - Type 1: Context-Sensitive Grammar\n",
        "    - Type 0: Recursively Enumerable Grammar\n",
        "    \"\"\"\n",
        "    if is_regular(grammar):\n",
        "        return \"Regular Language (Type 3)\"\n",
        "    elif is_context_free(grammar):\n",
        "        return \"Context-Free Language (Type 2)\"\n",
        "    elif is_context_sensitive(grammar):\n",
        "        return \"Context-Sensitive Language (Type 1)\"\n",
        "    elif is_recursively_enumerable(grammar):\n",
        "        return \"Recursively Enumerable Language (Type 0)\"\n",
        "    else:\n",
        "        return \"Unknown Type\"\n",
        "if __name__ == \"__main__\":\n",
        "    print(\"Enter your grammar production rules. Type 'done' when finished:\")\n",
        "    grammar = []\n",
        "    while True:\n",
        "        rule = input()\n",
        "        if rule.lower() == \"done\":\n",
        "            break\n",
        "        grammar.append(rule)\n",
        "    result = classify_grammar(grammar)\n",
        "    print(\"The grammar belongs to:\", result)\n"
      ],
      "metadata": {
        "colab": {
          "base_uri": "https://localhost:8080/"
        },
        "id": "DqMMkScuRei5",
        "outputId": "d901455c-dc45-42fa-ec38-ef4f708f79f8"
      },
      "execution_count": 11,
      "outputs": [
        {
          "output_type": "stream",
          "name": "stdout",
          "text": [
            "Enter your grammar production rules. Type 'done' when finished:\n",
            "S -> aA\n",
            "A -> bB\n",
            "B -> aS\n",
            "S -> ε\n",
            "done\n",
            "The grammar belongs to: Regular Language (Type 3)\n"
          ]
        }
      ]
    }
  ]
}